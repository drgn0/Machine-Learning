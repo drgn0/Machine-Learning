{
 "cells": [
  {
   "cell_type": "code",
   "execution_count": null,
   "metadata": {},
   "outputs": [],
   "source": [
    "import numpy as np \n",
    "# import pandas as pd "
   ]
  },
  {
   "cell_type": "code",
   "execution_count": null,
   "metadata": {},
   "outputs": [],
   "source": [
    "from DataHandler import DataHandler\n",
    "\n",
    "data_handler = DataHandler() \n",
    "\n",
    "x, y = data_handler.give_training_data() "
   ]
  },
  {
   "cell_type": "code",
   "execution_count": null,
   "metadata": {},
   "outputs": [],
   "source": [
    "def plot():\n",
    "    from matplotlib import pyplot as plt \n",
    "\n",
    "    plt.scatter(x, y)\n",
    "    plt.show()\n",
    "\n",
    "# plot() "
   ]
  },
  {
   "cell_type": "code",
   "execution_count": null,
   "metadata": {},
   "outputs": [],
   "source": [
    "def give_predictor(w, b):\n",
    "    def predict(x):\n",
    "        return w * x[0] + b \n",
    "    \n",
    "    return predict "
   ]
  },
  {
   "cell_type": "code",
   "execution_count": null,
   "metadata": {},
   "outputs": [],
   "source": [
    "def linear_gradient_descent(x_train, y_train, learning_rate = 0.1):\n",
    "    w = np.random.rand() \n",
    "    b = np.random.rand() \n",
    "\n",
    "    prev_err = float('inf') \n",
    "\n",
    "    for epoch in range(500):\n",
    "        del_w = sum( (w*x[0] + b - y) * x[0] for x, y in zip(x_train, y_train) ) / len(x_train) \n",
    "        del_b = sum( (w*x[0] + b - y) for x, y in zip(x_train, y_train) ) / len(x_train)\n",
    "\n",
    "        w -= learning_rate * del_w \n",
    "        b -= learning_rate * del_b \n",
    "\n",
    "        err = data_handler.training_error(give_predictor(w, b)) \n",
    "        print(f\"Epoch: {epoch}  Error = {err}\")\n",
    "        \n",
    "        if prev_err - err < 0.01:\n",
    "            break \n",
    "\n",
    "        prev_err = err \n",
    "\n",
    "    print('\\n', w, '* x +', b)\n",
    "    print(\"Test Error:\", data_handler._test_error(give_predictor(w, b))) \n",
    "\n",
    "linear_gradient_descent(x, y) \n",
    "\n"
   ]
  },
  {
   "cell_type": "code",
   "execution_count": null,
   "metadata": {},
   "outputs": [],
   "source": []
  }
 ],
 "metadata": {
  "interpreter": {
   "hash": "c13501a5b61ddf6947f2b042a553346c71627d33712cafa52684fe955397183f"
  },
  "kernelspec": {
   "display_name": "Python 3.9.7 64-bit",
   "language": "python",
   "name": "python3"
  },
  "language_info": {
   "codemirror_mode": {
    "name": "ipython",
    "version": 3
   },
   "file_extension": ".py",
   "mimetype": "text/x-python",
   "name": "python",
   "nbconvert_exporter": "python",
   "pygments_lexer": "ipython3",
   "version": "3.9.7"
  },
  "orig_nbformat": 4
 },
 "nbformat": 4,
 "nbformat_minor": 2
}
